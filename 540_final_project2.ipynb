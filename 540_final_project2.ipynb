{
 "cells": [
  {
   "cell_type": "code",
   "execution_count": 1,
   "id": "7f443e65",
   "metadata": {},
   "outputs": [],
   "source": [
    "# importing necessary libraries\n",
    "import pandas as pd\n",
    "import matplotlib.pyplot as plt\n",
    "import re\n",
    "import numpy as np"
   ]
  },
  {
   "cell_type": "code",
   "execution_count": 2,
   "id": "ea3685e6",
   "metadata": {},
   "outputs": [
    {
     "name": "stderr",
     "output_type": "stream",
     "text": [
      "/Users/zhiyi/opt/anaconda3/lib/python3.9/site-packages/IPython/core/interactiveshell.py:3369: DtypeWarning: Columns (1,4,5,6,13,14,15,16) have mixed types.Specify dtype option on import or set low_memory=False.\n",
      "  exec(code_obj, self.user_global_ns, self.user_ns)\n"
     ]
    },
    {
     "name": "stdout",
     "output_type": "stream",
     "text": [
      "Original Size of Data: (1056660, 19)\n",
      "Data Size after dropping rows with null values (based on abstract attribute): (821118, 19)\n"
     ]
    }
   ],
   "source": [
    "#1\n",
    "#read data set\n",
    "\n",
    "meta_data = pd.read_csv('/Users/zhiyi/Desktop/607/metadata.csv')\n",
    "print('Original Size of Data:',meta_data.shape)\n",
    "\n",
    "#drop rows with null values (based on abstract attribute)\n",
    "meta_data.dropna(subset = ['abstract'],axis = 0, inplace = True)\n",
    "print('Data Size after dropping rows with null values (based on abstract attribute):',meta_data.shape)"
   ]
  },
  {
   "cell_type": "code",
   "execution_count": 3,
   "id": "69c23c4e",
   "metadata": {},
   "outputs": [
    {
     "name": "stdout",
     "output_type": "stream",
     "text": [
      "         cord_uid  sha                source_x  \\\n",
      "7528     6r98lq0t  NaN                     PMC   \n",
      "7529     8qcd85x7  NaN                     PMC   \n",
      "10554    j0mb9zr4  NaN                     PMC   \n",
      "10710    zhw8vh3e  NaN                     PMC   \n",
      "10805    smm5s0ai  NaN                     PMC   \n",
      "...           ...  ...                     ...   \n",
      "1055884  lob7rary  NaN            Medline; PMC   \n",
      "1056362  ejprabi5  NaN            Medline; PMC   \n",
      "1056463  h37h7tgm  NaN  Elsevier; Medline; PMC   \n",
      "1056511  g5vqg0k8  NaN            Medline; PMC   \n",
      "1056586  65doyfvd  NaN            Medline; PMC   \n",
      "\n",
      "                                                     title  \\\n",
      "7528     Management in Ausnahmesituationen: Taktisches ...   \n",
      "7529     Management in Ausnahmesituationen: Taktisches ...   \n",
      "10554    Infektionsschutzrecht nach Inkrafttreten des M...   \n",
      "10710    Artificial Intelligence (AI) applications for ...   \n",
      "10805    Infektionsschutzrecht nach Inkrafttreten des M...   \n",
      "...                                                    ...   \n",
      "1055884  Neuropilin-1 facilitates SARS-CoV-2 cell entry...   \n",
      "1056362  Digital Pathology During the COVID-19 Outbreak...   \n",
      "1056463                  The countries that tamed covid-19   \n",
      "1056511  Programming course for health science as a str...   \n",
      "1056586  Social Media Use for Health Purposes: Systemat...   \n",
      "\n",
      "                                   doi       pmcid   pubmed_id    license  \\\n",
      "7528         10.1007/s00740-011-0347-2  PMC7111714    32288861      no-cc   \n",
      "7529         10.1007/s00735-011-0469-1  PMC7111728    32288313      no-cc   \n",
      "10554       10.1007/s00120-020-01212-x  PMC7184239    32338303      no-cc   \n",
      "10710        10.1016/j.dsx.2020.04.012  PMC7195043    32305024      no-cc   \n",
      "10805       10.1007/s00129-020-04606-2  PMC7203504    32382165      no-cc   \n",
      "...                                ...         ...         ...        ...   \n",
      "1055884        10.1126/science.abd2985  PMC7857391  33082293.0      cc-by   \n",
      "1056362                  10.2196/24266  PMC7901595  33503002.0      cc-by   \n",
      "1056463  10.1016/s0262-4079(20)32220-x  PMC7833330  33518990.0  els-covid   \n",
      "1056511       10.1152/advan.00183.2020  PMC8083174  33464193.0      no-cc   \n",
      "1056586                  10.2196/17917  PMC8156131  33978589.0      cc-by   \n",
      "\n",
      "                                                  abstract publish_time  \\\n",
      "7528     Im öffentlichen Gesundheitsdienst und vor alle...   2011-04-27   \n",
      "7529     Im öffentlichen Gesundheitsdienst und vor alle...   2011-07-19   \n",
      "10554    On 1 March 2020, the amendments to the German ...   2020-04-27   \n",
      "10710    BACKGROUND AND AIMS: Healthcare delivery requi...   2020-04-14   \n",
      "10805    On 1 March 2020, the amendments to the German ...   2020-05-07   \n",
      "...                                                    ...          ...   \n",
      "1055884  The causative agent of coronavirus disease 201...   2020-11-13   \n",
      "1056362  BACKGROUND: Transition to digital pathology us...   2021-02-22   \n",
      "1056463  A handful of nations have achieved something t...   2020-12-26   \n",
      "1056511  Programming is an important skill for differen...   2021-03-01   \n",
      "1056586  BACKGROUND: Social media has been widely used ...   2021-05-12   \n",
      "\n",
      "                                                   authors  \\\n",
      "7528                                          Seidl, Franz   \n",
      "7529                                             Seidl, F.   \n",
      "10554                                        Lissel, P. M.   \n",
      "10710    Vaishya, Raju; Javaid, Mohd; Khan, Ibrahim Hal...   \n",
      "10805                                        Lissel, P. M.   \n",
      "...                                                    ...   \n",
      "1055884  Cantuti-Castelvetri, Ludovico; Ojha, Ravi; Ped...   \n",
      "1056362  Giaretto, Simone; Renne, Salvatore Lorenzo; Ra...   \n",
      "1056463                                   Le Page, Michael   \n",
      "1056511  De la Fuente, Carlos I.; Guadagnin, Eliane Cel...   \n",
      "1056586                           Chen, Junhan; Wang, Yuan   \n",
      "\n",
      "                      journal  mag_id who_covidence_id arxiv_id  \\\n",
      "7528            Wien Klin Mag     NaN              NaN      NaN   \n",
      "7529                  Procare     NaN              NaN      NaN   \n",
      "10554               Urologe A     NaN              NaN      NaN   \n",
      "10710    Diabetes Metab Syndr     NaN              NaN      NaN   \n",
      "10805              Gynakologe     NaN              NaN      NaN   \n",
      "...                       ...     ...              ...      ...   \n",
      "1055884               Science     NaN              NaN      NaN   \n",
      "1056362    J Med Internet Res     NaN              NaN      NaN   \n",
      "1056463         New Scientist     NaN              NaN      NaN   \n",
      "1056511      Adv Physiol Educ     NaN              NaN      NaN   \n",
      "1056586    J Med Internet Res     NaN              NaN      NaN   \n",
      "\n",
      "        pdf_json_files                                pmc_json_files  \\\n",
      "7528               NaN                                           NaN   \n",
      "7529               NaN                                           NaN   \n",
      "10554              NaN                                           NaN   \n",
      "10710              NaN  document_parses/pmc_json/PMC7195043.xml.json   \n",
      "10805              NaN                                           NaN   \n",
      "...                ...                                           ...   \n",
      "1055884            NaN  document_parses/pmc_json/PMC7857391.xml.json   \n",
      "1056362            NaN  document_parses/pmc_json/PMC7901595.xml.json   \n",
      "1056463            NaN                                           NaN   \n",
      "1056511            NaN  document_parses/pmc_json/PMC8083174.xml.json   \n",
      "1056586            NaN  document_parses/pmc_json/PMC8156131.xml.json   \n",
      "\n",
      "                                                       url        s2_id  \n",
      "7528     https://www.ncbi.nlm.nih.gov/pmc/articles/PMC7...          NaN  \n",
      "7529     https://www.ncbi.nlm.nih.gov/pmc/articles/PMC7...          NaN  \n",
      "10554    https://www.ncbi.nlm.nih.gov/pmc/articles/PMC7...          NaN  \n",
      "10710    https://www.ncbi.nlm.nih.gov/pmc/articles/PMC7...          NaN  \n",
      "10805    https://www.ncbi.nlm.nih.gov/pmc/articles/PMC7...          NaN  \n",
      "...                                                    ...          ...  \n",
      "1055884  https://doi.org/10.1126/science.abd2985; https...  224823992.0  \n",
      "1056362  https://www.ncbi.nlm.nih.gov/pubmed/33503002/;...  231762843.0  \n",
      "1056463  https://www.sciencedirect.com/science/article/...  231705623.0  \n",
      "1056511  https://www.ncbi.nlm.nih.gov/pubmed/33464193/;...  231641109.0  \n",
      "1056586  https://www.ncbi.nlm.nih.gov/pubmed/33978589/;...  234471309.0  \n",
      "\n",
      "[77329 rows x 19 columns]\n",
      "Data Size after dropping duplicated data (based on abstract attribute): (780393, 19)\n"
     ]
    }
   ],
   "source": [
    "#handling duplicate data (based on 'sha','title' and 'abstract')\n",
    "print(meta_data[meta_data.duplicated(subset=['sha','title','abstract'], keep=False) == True])\n",
    "meta_data.drop_duplicates(subset=['sha','title','abstract'],keep ='last',inplace=True)\n",
    "print('Data Size after dropping duplicated data (based on abstract attribute):',meta_data.shape)"
   ]
  },
  {
   "cell_type": "code",
   "execution_count": 4,
   "id": "2d4846ce",
   "metadata": {},
   "outputs": [
    {
     "name": "stdout",
     "output_type": "stream",
     "text": [
      "Num of null values ( cord_uid ): 0\n",
      "Num of null values ( sha ): 453723\n",
      "Num of null values ( source_x ): 0\n",
      "Num of null values ( title ): 101\n",
      "Num of null values ( doi ): 247393\n",
      "Num of null values ( pmcid ): 468365\n",
      "Num of null values ( pubmed_id ): 376968\n",
      "Num of null values ( license ): 0\n",
      "Num of null values ( abstract ): 0\n",
      "Num of null values ( publish_time ): 1723\n",
      "Num of null values ( authors ): 4697\n",
      "Num of null values ( journal ): 76604\n",
      "Num of null values ( mag_id ): 780393\n",
      "Num of null values ( who_covidence_id ): 460430\n",
      "Num of null values ( arxiv_id ): 766222\n",
      "Num of null values ( pdf_json_files ): 453723\n",
      "Num of null values ( pmc_json_files ): 509070\n",
      "Num of null values ( url ): 221696\n",
      "Num of null values ( s2_id ): 55458\n"
     ]
    }
   ],
   "source": [
    "#3\n",
    "#function to deal with null values\n",
    "#'No Information Available' will be replaced\n",
    "def dealing_with_null_values(dataset):\n",
    "    dataset = dataset\n",
    "    for i in dataset.columns:\n",
    "        replace = []\n",
    "        data  = dataset[i].isnull()\n",
    "        count = 0\n",
    "        for j,k in zip(data,dataset[i]):\n",
    "            if (j==True):\n",
    "                count = count+1\n",
    "                replace.append('No Information Available')\n",
    "            else:\n",
    "                replace.append(k)\n",
    "        print(\"Num of null values (\",i,\"):\",count)\n",
    "        dataset[i] = replace\n",
    "    return dataset\n",
    "\n",
    "meta_data = dealing_with_null_values(meta_data)"
   ]
  },
  {
   "cell_type": "code",
   "execution_count": 5,
   "id": "f993a800",
   "metadata": {},
   "outputs": [
    {
     "data": {
      "text/plain": [
       "(780393, 19)"
      ]
     },
     "execution_count": 5,
     "metadata": {},
     "output_type": "execute_result"
    }
   ],
   "source": [
    "meta_data.shape"
   ]
  },
  {
   "cell_type": "code",
   "execution_count": 6,
   "id": "52d5ec55",
   "metadata": {},
   "outputs": [],
   "source": [
    "from sklearn.decomposition import PCA\n",
    "def pca_fun(n_components, data):\n",
    "    pca = PCA(n_components=n_components).fit(data)\n",
    "    data = pca.transform(data)\n",
    "    return data"
   ]
  },
  {
   "cell_type": "code",
   "execution_count": 7,
   "id": "10892381",
   "metadata": {},
   "outputs": [],
   "source": [
    "from sklearn.feature_extraction.text import TfidfVectorizer\n",
    "\n",
    "def tfidf(data):\n",
    "    tfidf = TfidfVectorizer( stop_words='english',use_idf=True)\n",
    "    tfidf_matrix = tfidf.fit_transform(data)\n",
    "    return tfidf_matrix"
   ]
  },
  {
   "cell_type": "code",
   "execution_count": 8,
   "id": "b026e3a2",
   "metadata": {},
   "outputs": [],
   "source": [
    "# Let's create a matrix with tfidf for the column abstract\n",
    "tfidf_matrix = tfidf(meta_data['abstract'])"
   ]
  },
  {
   "cell_type": "code",
   "execution_count": 9,
   "id": "0c67ea5d",
   "metadata": {},
   "outputs": [
    {
     "name": "stdout",
     "output_type": "stream",
     "text": [
      "Related Document: [     0 501058 108413 318824   4862 522730 581986 471695 128297 625805]\n",
      "Cosine Similarites of related documents [1.         0.38452337 0.35538984 0.35166117 0.34838092 0.34520779\n",
      " 0.34285459 0.34049942 0.33661918 0.33469852]\n"
     ]
    }
   ],
   "source": [
    "# in order to explore which documents have more similar respresentaiton, consine simliartiy can be used\n",
    "from sklearn.metrics.pairwise import linear_kernel\n",
    "cosine_similarities = linear_kernel(tfidf_matrix[0:1], tfidf_matrix).flatten()\n",
    "\n",
    "# 10 most related documents indices\n",
    "related_docs_indices = cosine_similarities.argsort()[:-11:-1]\n",
    "print(\"Related Document:\",related_docs_indices)\n",
    "\n",
    "# Cosine Similarties of related documents\n",
    "print(\"Cosine Similarites of related documents\",cosine_similarities[related_docs_indices])"
   ]
  },
  {
   "cell_type": "code",
   "execution_count": 10,
   "id": "66484676",
   "metadata": {},
   "outputs": [
    {
     "data": {
      "text/plain": [
       "'OBJECTIVE: This retrospective chart review describes the epidemiology and clinical features of 40 patients with culture-proven Mycoplasma pneumoniae infections at King Abdulaziz University Hospital, Jeddah, Saudi Arabia. METHODS: Patients with positive M. pneumoniae cultures from respiratory specimens from January 1997 through December 1998 were identified through the Microbiology records. Charts of patients were reviewed. RESULTS: 40 patients were identified, 33 (82.5%) of whom required admission. Most infections (92.5%) were community-acquired. The infection affected all age groups but was most common in infants (32.5%) and pre-school children (22.5%). It occurred year-round but was most common in the fall (35%) and spring (30%). More than three-quarters of patients (77.5%) had comorbidities. Twenty-four isolates (60%) were associated with pneumonia, 14 (35%) with upper respiratory tract infections, and 2 (5%) with bronchiolitis. Cough (82.5%), fever (75%), and malaise (58.8%) were the most common symptoms, and crepitations (60%), and wheezes (40%) were the most common signs. Most patients with pneumonia had crepitations (79.2%) but only 25% had bronchial breathing. Immunocompromised patients were more likely than non-immunocompromised patients to present with pneumonia (8/9 versus 16/31, P = 0.05). Of the 24 patients with pneumonia, 14 (58.3%) had uneventful recovery, 4 (16.7%) recovered following some complications, 3 (12.5%) died because of M pneumoniae infection, and 3 (12.5%) died due to underlying comorbidities. The 3 patients who died of M pneumoniae pneumonia had other comorbidities. CONCLUSION: our results were similar to published data except for the finding that infections were more common in infants and preschool children and that the mortality rate of pneumonia in patients with comorbidities was high.'"
      ]
     },
     "execution_count": 10,
     "metadata": {},
     "output_type": "execute_result"
    }
   ],
   "source": [
    "# Let's take a look at two most similar document\n",
    "meta_data.iloc[0]['abstract']"
   ]
  },
  {
   "cell_type": "code",
   "execution_count": 16,
   "id": "8a13f698",
   "metadata": {},
   "outputs": [
    {
     "name": "stdout",
     "output_type": "stream",
     "text": [
      "Requirement already satisfied: wordcloud in /Users/zhiyi/opt/anaconda3/lib/python3.9/site-packages (1.9.3)\n",
      "Requirement already satisfied: matplotlib in /Users/zhiyi/opt/anaconda3/lib/python3.9/site-packages (from wordcloud) (3.5.1)\n",
      "Requirement already satisfied: pillow in /Users/zhiyi/opt/anaconda3/lib/python3.9/site-packages (from wordcloud) (10.1.0)\n",
      "Requirement already satisfied: numpy>=1.6.1 in /Users/zhiyi/opt/anaconda3/lib/python3.9/site-packages (from wordcloud) (1.21.5)\n",
      "Requirement already satisfied: pyparsing>=2.2.1 in /Users/zhiyi/opt/anaconda3/lib/python3.9/site-packages (from matplotlib->wordcloud) (3.0.4)\n",
      "Requirement already satisfied: cycler>=0.10 in /Users/zhiyi/opt/anaconda3/lib/python3.9/site-packages (from matplotlib->wordcloud) (0.11.0)\n",
      "Requirement already satisfied: packaging>=20.0 in /Users/zhiyi/opt/anaconda3/lib/python3.9/site-packages (from matplotlib->wordcloud) (21.3)\n",
      "Requirement already satisfied: fonttools>=4.22.0 in /Users/zhiyi/opt/anaconda3/lib/python3.9/site-packages (from matplotlib->wordcloud) (4.25.0)\n",
      "Requirement already satisfied: python-dateutil>=2.7 in /Users/zhiyi/opt/anaconda3/lib/python3.9/site-packages (from matplotlib->wordcloud) (2.8.2)\n",
      "Requirement already satisfied: kiwisolver>=1.0.1 in /Users/zhiyi/opt/anaconda3/lib/python3.9/site-packages (from matplotlib->wordcloud) (1.3.2)\n",
      "Requirement already satisfied: six>=1.5 in /Users/zhiyi/opt/anaconda3/lib/python3.9/site-packages (from python-dateutil>=2.7->matplotlib->wordcloud) (1.16.0)\n",
      "Requirement already satisfied: pip in /Users/zhiyi/opt/anaconda3/lib/python3.9/site-packages (21.2.4)\n",
      "Collecting pip\n",
      "  Downloading pip-23.3.1-py3-none-any.whl (2.1 MB)\n",
      "\u001b[K     |████████████████████████████████| 2.1 MB 3.2 MB/s eta 0:00:01\n",
      "\u001b[?25hInstalling collected packages: pip\n",
      "  Attempting uninstall: pip\n",
      "    Found existing installation: pip 21.2.4\n",
      "    Uninstalling pip-21.2.4:\n",
      "      Successfully uninstalled pip-21.2.4\n",
      "Successfully installed pip-23.3.1\n",
      "Requirement already satisfied: Pillow in /Users/zhiyi/opt/anaconda3/lib/python3.9/site-packages (10.1.0)\n"
     ]
    },
    {
     "ename": "ValueError",
     "evalue": "Only supported for TrueType fonts",
     "output_type": "error",
     "traceback": [
      "\u001b[0;31m---------------------------------------------------------------------------\u001b[0m",
      "\u001b[0;31mValueError\u001b[0m                                Traceback (most recent call last)",
      "Input \u001b[0;32mIn [16]\u001b[0m, in \u001b[0;36m<cell line: 7>\u001b[0;34m()\u001b[0m\n\u001b[1;32m      5\u001b[0m \u001b[38;5;28;01mfrom\u001b[39;00m \u001b[38;5;21;01mwordcloud\u001b[39;00m \u001b[38;5;28;01mimport\u001b[39;00m WordCloud\n\u001b[1;32m      6\u001b[0m \u001b[38;5;28;01mimport\u001b[39;00m \u001b[38;5;21;01mmatplotlib\u001b[39;00m\u001b[38;5;21;01m.\u001b[39;00m\u001b[38;5;21;01mpyplot\u001b[39;00m \u001b[38;5;28;01mas\u001b[39;00m \u001b[38;5;21;01mplt\u001b[39;00m\n\u001b[0;32m----> 7\u001b[0m wordcloud \u001b[38;5;241m=\u001b[39m \u001b[43mWordCloud\u001b[49m\u001b[43m(\u001b[49m\u001b[43m)\u001b[49m\u001b[38;5;241;43m.\u001b[39;49m\u001b[43mgenerate\u001b[49m\u001b[43m(\u001b[49m\u001b[43mmeta_data\u001b[49m\u001b[38;5;241;43m.\u001b[39;49m\u001b[43miloc\u001b[49m\u001b[43m[\u001b[49m\u001b[38;5;241;43m0\u001b[39;49m\u001b[43m]\u001b[49m\u001b[43m[\u001b[49m\u001b[38;5;124;43m'\u001b[39;49m\u001b[38;5;124;43mabstract\u001b[39;49m\u001b[38;5;124;43m'\u001b[39;49m\u001b[43m]\u001b[49m\u001b[43m)\u001b[49m\n\u001b[1;32m      8\u001b[0m plt\u001b[38;5;241m.\u001b[39mimshow(wordcloud, interpolation\u001b[38;5;241m=\u001b[39m\u001b[38;5;124m\"\u001b[39m\u001b[38;5;124mbilinear\u001b[39m\u001b[38;5;124m\"\u001b[39m)\n",
      "File \u001b[0;32m~/opt/anaconda3/lib/python3.9/site-packages/wordcloud/wordcloud.py:642\u001b[0m, in \u001b[0;36mWordCloud.generate\u001b[0;34m(self, text)\u001b[0m\n\u001b[1;32m    627\u001b[0m \u001b[38;5;28;01mdef\u001b[39;00m \u001b[38;5;21mgenerate\u001b[39m(\u001b[38;5;28mself\u001b[39m, text):\n\u001b[1;32m    628\u001b[0m     \u001b[38;5;124;03m\"\"\"Generate wordcloud from text.\u001b[39;00m\n\u001b[1;32m    629\u001b[0m \n\u001b[1;32m    630\u001b[0m \u001b[38;5;124;03m    The input \"text\" is expected to be a natural text. If you pass a sorted\u001b[39;00m\n\u001b[0;32m   (...)\u001b[0m\n\u001b[1;32m    640\u001b[0m \u001b[38;5;124;03m    self\u001b[39;00m\n\u001b[1;32m    641\u001b[0m \u001b[38;5;124;03m    \"\"\"\u001b[39;00m\n\u001b[0;32m--> 642\u001b[0m     \u001b[38;5;28;01mreturn\u001b[39;00m \u001b[38;5;28;43mself\u001b[39;49m\u001b[38;5;241;43m.\u001b[39;49m\u001b[43mgenerate_from_text\u001b[49m\u001b[43m(\u001b[49m\u001b[43mtext\u001b[49m\u001b[43m)\u001b[49m\n",
      "File \u001b[0;32m~/opt/anaconda3/lib/python3.9/site-packages/wordcloud/wordcloud.py:624\u001b[0m, in \u001b[0;36mWordCloud.generate_from_text\u001b[0;34m(self, text)\u001b[0m\n\u001b[1;32m    607\u001b[0m \u001b[38;5;124;03m\"\"\"Generate wordcloud from text.\u001b[39;00m\n\u001b[1;32m    608\u001b[0m \n\u001b[1;32m    609\u001b[0m \u001b[38;5;124;03mThe input \"text\" is expected to be a natural text. If you pass a sorted\u001b[39;00m\n\u001b[0;32m   (...)\u001b[0m\n\u001b[1;32m    621\u001b[0m \u001b[38;5;124;03mself\u001b[39;00m\n\u001b[1;32m    622\u001b[0m \u001b[38;5;124;03m\"\"\"\u001b[39;00m\n\u001b[1;32m    623\u001b[0m words \u001b[38;5;241m=\u001b[39m \u001b[38;5;28mself\u001b[39m\u001b[38;5;241m.\u001b[39mprocess_text(text)\n\u001b[0;32m--> 624\u001b[0m \u001b[38;5;28;43mself\u001b[39;49m\u001b[38;5;241;43m.\u001b[39;49m\u001b[43mgenerate_from_frequencies\u001b[49m\u001b[43m(\u001b[49m\u001b[43mwords\u001b[49m\u001b[43m)\u001b[49m\n\u001b[1;32m    625\u001b[0m \u001b[38;5;28;01mreturn\u001b[39;00m \u001b[38;5;28mself\u001b[39m\n",
      "File \u001b[0;32m~/opt/anaconda3/lib/python3.9/site-packages/wordcloud/wordcloud.py:453\u001b[0m, in \u001b[0;36mWordCloud.generate_from_frequencies\u001b[0;34m(self, frequencies, max_font_size)\u001b[0m\n\u001b[1;32m    451\u001b[0m     font_size \u001b[38;5;241m=\u001b[39m \u001b[38;5;28mself\u001b[39m\u001b[38;5;241m.\u001b[39mheight\n\u001b[1;32m    452\u001b[0m \u001b[38;5;28;01melse\u001b[39;00m:\n\u001b[0;32m--> 453\u001b[0m     \u001b[38;5;28;43mself\u001b[39;49m\u001b[38;5;241;43m.\u001b[39;49m\u001b[43mgenerate_from_frequencies\u001b[49m\u001b[43m(\u001b[49m\u001b[38;5;28;43mdict\u001b[39;49m\u001b[43m(\u001b[49m\u001b[43mfrequencies\u001b[49m\u001b[43m[\u001b[49m\u001b[43m:\u001b[49m\u001b[38;5;241;43m2\u001b[39;49m\u001b[43m]\u001b[49m\u001b[43m)\u001b[49m\u001b[43m,\u001b[49m\n\u001b[1;32m    454\u001b[0m \u001b[43m                                   \u001b[49m\u001b[43mmax_font_size\u001b[49m\u001b[38;5;241;43m=\u001b[39;49m\u001b[38;5;28;43mself\u001b[39;49m\u001b[38;5;241;43m.\u001b[39;49m\u001b[43mheight\u001b[49m\u001b[43m)\u001b[49m\n\u001b[1;32m    455\u001b[0m     \u001b[38;5;66;03m# find font sizes\u001b[39;00m\n\u001b[1;32m    456\u001b[0m     sizes \u001b[38;5;241m=\u001b[39m [x[\u001b[38;5;241m1\u001b[39m] \u001b[38;5;28;01mfor\u001b[39;00m x \u001b[38;5;129;01min\u001b[39;00m \u001b[38;5;28mself\u001b[39m\u001b[38;5;241m.\u001b[39mlayout_]\n",
      "File \u001b[0;32m~/opt/anaconda3/lib/python3.9/site-packages/wordcloud/wordcloud.py:511\u001b[0m, in \u001b[0;36mWordCloud.generate_from_frequencies\u001b[0;34m(self, frequencies, max_font_size)\u001b[0m\n\u001b[1;32m    508\u001b[0m transposed_font \u001b[38;5;241m=\u001b[39m ImageFont\u001b[38;5;241m.\u001b[39mTransposedFont(\n\u001b[1;32m    509\u001b[0m     font, orientation\u001b[38;5;241m=\u001b[39morientation)\n\u001b[1;32m    510\u001b[0m \u001b[38;5;66;03m# get size of resulting text\u001b[39;00m\n\u001b[0;32m--> 511\u001b[0m box_size \u001b[38;5;241m=\u001b[39m \u001b[43mdraw\u001b[49m\u001b[38;5;241;43m.\u001b[39;49m\u001b[43mtextbbox\u001b[49m\u001b[43m(\u001b[49m\u001b[43m(\u001b[49m\u001b[38;5;241;43m0\u001b[39;49m\u001b[43m,\u001b[49m\u001b[43m \u001b[49m\u001b[38;5;241;43m0\u001b[39;49m\u001b[43m)\u001b[49m\u001b[43m,\u001b[49m\u001b[43m \u001b[49m\u001b[43mword\u001b[49m\u001b[43m,\u001b[49m\u001b[43m \u001b[49m\u001b[43mfont\u001b[49m\u001b[38;5;241;43m=\u001b[39;49m\u001b[43mtransposed_font\u001b[49m\u001b[43m,\u001b[49m\u001b[43m \u001b[49m\u001b[43manchor\u001b[49m\u001b[38;5;241;43m=\u001b[39;49m\u001b[38;5;124;43m\"\u001b[39;49m\u001b[38;5;124;43mlt\u001b[39;49m\u001b[38;5;124;43m\"\u001b[39;49m\u001b[43m)\u001b[49m\n\u001b[1;32m    512\u001b[0m \u001b[38;5;66;03m# find possible places using integral image:\u001b[39;00m\n\u001b[1;32m    513\u001b[0m result \u001b[38;5;241m=\u001b[39m occupancy\u001b[38;5;241m.\u001b[39msample_position(box_size[\u001b[38;5;241m3\u001b[39m] \u001b[38;5;241m+\u001b[39m \u001b[38;5;28mself\u001b[39m\u001b[38;5;241m.\u001b[39mmargin,\n\u001b[1;32m    514\u001b[0m                                    box_size[\u001b[38;5;241m2\u001b[39m] \u001b[38;5;241m+\u001b[39m \u001b[38;5;28mself\u001b[39m\u001b[38;5;241m.\u001b[39mmargin,\n\u001b[1;32m    515\u001b[0m                                    random_state)\n",
      "File \u001b[0;32m~/opt/anaconda3/lib/python3.9/site-packages/PIL/ImageDraw.py:671\u001b[0m, in \u001b[0;36mImageDraw.textbbox\u001b[0;34m(self, xy, text, font, anchor, spacing, align, direction, features, language, stroke_width, embedded_color)\u001b[0m\n\u001b[1;32m    669\u001b[0m     font \u001b[38;5;241m=\u001b[39m \u001b[38;5;28mself\u001b[39m\u001b[38;5;241m.\u001b[39mgetfont()\n\u001b[1;32m    670\u001b[0m \u001b[38;5;28;01mif\u001b[39;00m \u001b[38;5;129;01mnot\u001b[39;00m \u001b[38;5;28misinstance\u001b[39m(font, ImageFont\u001b[38;5;241m.\u001b[39mFreeTypeFont):\n\u001b[0;32m--> 671\u001b[0m     \u001b[38;5;28;01mraise\u001b[39;00m \u001b[38;5;167;01mValueError\u001b[39;00m(\u001b[38;5;124m\"\u001b[39m\u001b[38;5;124mOnly supported for TrueType fonts\u001b[39m\u001b[38;5;124m\"\u001b[39m)\n\u001b[1;32m    672\u001b[0m mode \u001b[38;5;241m=\u001b[39m \u001b[38;5;124m\"\u001b[39m\u001b[38;5;124mRGBA\u001b[39m\u001b[38;5;124m\"\u001b[39m \u001b[38;5;28;01mif\u001b[39;00m embedded_color \u001b[38;5;28;01melse\u001b[39;00m \u001b[38;5;28mself\u001b[39m\u001b[38;5;241m.\u001b[39mfontmode\n\u001b[1;32m    673\u001b[0m bbox \u001b[38;5;241m=\u001b[39m font\u001b[38;5;241m.\u001b[39mgetbbox(\n\u001b[1;32m    674\u001b[0m     text, mode, direction, features, language, stroke_width, anchor\n\u001b[1;32m    675\u001b[0m )\n",
      "\u001b[0;31mValueError\u001b[0m: Only supported for TrueType fonts"
     ]
    }
   ],
   "source": [
    "!pip install wordcloud\n",
    "!pip install --upgrade pip\n",
    "!pip install --upgrade Pillow\n",
    "\n",
    "from wordcloud import WordCloud\n",
    "import matplotlib.pyplot as plt\n",
    "wordcloud = WordCloud().generate(meta_data.iloc[0]['abstract'])\n",
    "plt.imshow(wordcloud, interpolation=\"bilinear\")"
   ]
  },
  {
   "cell_type": "code",
   "execution_count": 17,
   "id": "e4214833",
   "metadata": {},
   "outputs": [
    {
     "data": {
      "text/plain": [
       "'Respiratory syncytial virus (RSV) is one of the main pathogens associated with lower respiratory tract infections in infants and young children worldwide. Exosomes secreted by antigen presenting cells (APCs) can elicit immune responses by carrying major histocompatibility complex (MHC) class I molecules complexed with antigenic peptides and other co-stimulating factors. Therefore, we developed novel immunomagnetic nanographene particles to sequentially isolate, surface engineer, and release intact dendritic cell (DC) exosomes for use as a potential vaccine platform against RSV. The H-2D(b)-restricted, immunodominant peptides from RSV (M(187–195) and NS1(61–75)) were introduced to MHC-I on DC-derived exosomes to express peptide/MHC-I (pMHC-I) complexes. A mouse model of RSV infection was used to define the immunogenicity of surface engineered exosomes for activating virus-specific immune responses. Ex vivo assays demonstrated that engineered exosomes carrying RSV-specific peptides can elicit interferon-gamma (IFN-γ) production by virus-specific CD8+ T cells isolated from RSV-infected C57BL/6 mice. In vivo assays demonstrated that subcutaneous administration of both M(187–195) and NS1(61–75) engineered exosomes to mice, with or without additional adjuvant, appeared safe and well tolerated, however, did not prime antigen-specific CD8+ T cell responses. Surface engineered exosomes are immunogenic and promising for further development as a vaccine platform.'"
      ]
     },
     "execution_count": 17,
     "metadata": {},
     "output_type": "execute_result"
    }
   ],
   "source": [
    "meta_data.iloc[17863]['abstract']"
   ]
  },
  {
   "cell_type": "code",
   "execution_count": 18,
   "id": "cd93cb3c",
   "metadata": {},
   "outputs": [
    {
     "ename": "ValueError",
     "evalue": "Only supported for TrueType fonts",
     "output_type": "error",
     "traceback": [
      "\u001b[0;31m---------------------------------------------------------------------------\u001b[0m",
      "\u001b[0;31mValueError\u001b[0m                                Traceback (most recent call last)",
      "Input \u001b[0;32mIn [18]\u001b[0m, in \u001b[0;36m<cell line: 3>\u001b[0;34m()\u001b[0m\n\u001b[1;32m      1\u001b[0m \u001b[38;5;28;01mfrom\u001b[39;00m \u001b[38;5;21;01mwordcloud\u001b[39;00m \u001b[38;5;28;01mimport\u001b[39;00m WordCloud\n\u001b[1;32m      2\u001b[0m \u001b[38;5;28;01mimport\u001b[39;00m \u001b[38;5;21;01mmatplotlib\u001b[39;00m\u001b[38;5;21;01m.\u001b[39;00m\u001b[38;5;21;01mpyplot\u001b[39;00m \u001b[38;5;28;01mas\u001b[39;00m \u001b[38;5;21;01mplt\u001b[39;00m\n\u001b[0;32m----> 3\u001b[0m wordcloud \u001b[38;5;241m=\u001b[39m \u001b[43mWordCloud\u001b[49m\u001b[43m(\u001b[49m\u001b[43m)\u001b[49m\u001b[38;5;241;43m.\u001b[39;49m\u001b[43mgenerate\u001b[49m\u001b[43m(\u001b[49m\u001b[43mmeta_data\u001b[49m\u001b[38;5;241;43m.\u001b[39;49m\u001b[43miloc\u001b[49m\u001b[43m[\u001b[49m\u001b[38;5;241;43m17863\u001b[39;49m\u001b[43m]\u001b[49m\u001b[43m[\u001b[49m\u001b[38;5;124;43m'\u001b[39;49m\u001b[38;5;124;43mabstract\u001b[39;49m\u001b[38;5;124;43m'\u001b[39;49m\u001b[43m]\u001b[49m\u001b[43m)\u001b[49m\n\u001b[1;32m      4\u001b[0m plt\u001b[38;5;241m.\u001b[39mimshow(wordcloud, interpolation\u001b[38;5;241m=\u001b[39m\u001b[38;5;124m\"\u001b[39m\u001b[38;5;124mbilinear\u001b[39m\u001b[38;5;124m\"\u001b[39m)\n",
      "File \u001b[0;32m~/opt/anaconda3/lib/python3.9/site-packages/wordcloud/wordcloud.py:642\u001b[0m, in \u001b[0;36mWordCloud.generate\u001b[0;34m(self, text)\u001b[0m\n\u001b[1;32m    627\u001b[0m \u001b[38;5;28;01mdef\u001b[39;00m \u001b[38;5;21mgenerate\u001b[39m(\u001b[38;5;28mself\u001b[39m, text):\n\u001b[1;32m    628\u001b[0m     \u001b[38;5;124;03m\"\"\"Generate wordcloud from text.\u001b[39;00m\n\u001b[1;32m    629\u001b[0m \n\u001b[1;32m    630\u001b[0m \u001b[38;5;124;03m    The input \"text\" is expected to be a natural text. If you pass a sorted\u001b[39;00m\n\u001b[0;32m   (...)\u001b[0m\n\u001b[1;32m    640\u001b[0m \u001b[38;5;124;03m    self\u001b[39;00m\n\u001b[1;32m    641\u001b[0m \u001b[38;5;124;03m    \"\"\"\u001b[39;00m\n\u001b[0;32m--> 642\u001b[0m     \u001b[38;5;28;01mreturn\u001b[39;00m \u001b[38;5;28;43mself\u001b[39;49m\u001b[38;5;241;43m.\u001b[39;49m\u001b[43mgenerate_from_text\u001b[49m\u001b[43m(\u001b[49m\u001b[43mtext\u001b[49m\u001b[43m)\u001b[49m\n",
      "File \u001b[0;32m~/opt/anaconda3/lib/python3.9/site-packages/wordcloud/wordcloud.py:624\u001b[0m, in \u001b[0;36mWordCloud.generate_from_text\u001b[0;34m(self, text)\u001b[0m\n\u001b[1;32m    607\u001b[0m \u001b[38;5;124;03m\"\"\"Generate wordcloud from text.\u001b[39;00m\n\u001b[1;32m    608\u001b[0m \n\u001b[1;32m    609\u001b[0m \u001b[38;5;124;03mThe input \"text\" is expected to be a natural text. If you pass a sorted\u001b[39;00m\n\u001b[0;32m   (...)\u001b[0m\n\u001b[1;32m    621\u001b[0m \u001b[38;5;124;03mself\u001b[39;00m\n\u001b[1;32m    622\u001b[0m \u001b[38;5;124;03m\"\"\"\u001b[39;00m\n\u001b[1;32m    623\u001b[0m words \u001b[38;5;241m=\u001b[39m \u001b[38;5;28mself\u001b[39m\u001b[38;5;241m.\u001b[39mprocess_text(text)\n\u001b[0;32m--> 624\u001b[0m \u001b[38;5;28;43mself\u001b[39;49m\u001b[38;5;241;43m.\u001b[39;49m\u001b[43mgenerate_from_frequencies\u001b[49m\u001b[43m(\u001b[49m\u001b[43mwords\u001b[49m\u001b[43m)\u001b[49m\n\u001b[1;32m    625\u001b[0m \u001b[38;5;28;01mreturn\u001b[39;00m \u001b[38;5;28mself\u001b[39m\n",
      "File \u001b[0;32m~/opt/anaconda3/lib/python3.9/site-packages/wordcloud/wordcloud.py:453\u001b[0m, in \u001b[0;36mWordCloud.generate_from_frequencies\u001b[0;34m(self, frequencies, max_font_size)\u001b[0m\n\u001b[1;32m    451\u001b[0m     font_size \u001b[38;5;241m=\u001b[39m \u001b[38;5;28mself\u001b[39m\u001b[38;5;241m.\u001b[39mheight\n\u001b[1;32m    452\u001b[0m \u001b[38;5;28;01melse\u001b[39;00m:\n\u001b[0;32m--> 453\u001b[0m     \u001b[38;5;28;43mself\u001b[39;49m\u001b[38;5;241;43m.\u001b[39;49m\u001b[43mgenerate_from_frequencies\u001b[49m\u001b[43m(\u001b[49m\u001b[38;5;28;43mdict\u001b[39;49m\u001b[43m(\u001b[49m\u001b[43mfrequencies\u001b[49m\u001b[43m[\u001b[49m\u001b[43m:\u001b[49m\u001b[38;5;241;43m2\u001b[39;49m\u001b[43m]\u001b[49m\u001b[43m)\u001b[49m\u001b[43m,\u001b[49m\n\u001b[1;32m    454\u001b[0m \u001b[43m                                   \u001b[49m\u001b[43mmax_font_size\u001b[49m\u001b[38;5;241;43m=\u001b[39;49m\u001b[38;5;28;43mself\u001b[39;49m\u001b[38;5;241;43m.\u001b[39;49m\u001b[43mheight\u001b[49m\u001b[43m)\u001b[49m\n\u001b[1;32m    455\u001b[0m     \u001b[38;5;66;03m# find font sizes\u001b[39;00m\n\u001b[1;32m    456\u001b[0m     sizes \u001b[38;5;241m=\u001b[39m [x[\u001b[38;5;241m1\u001b[39m] \u001b[38;5;28;01mfor\u001b[39;00m x \u001b[38;5;129;01min\u001b[39;00m \u001b[38;5;28mself\u001b[39m\u001b[38;5;241m.\u001b[39mlayout_]\n",
      "File \u001b[0;32m~/opt/anaconda3/lib/python3.9/site-packages/wordcloud/wordcloud.py:511\u001b[0m, in \u001b[0;36mWordCloud.generate_from_frequencies\u001b[0;34m(self, frequencies, max_font_size)\u001b[0m\n\u001b[1;32m    508\u001b[0m transposed_font \u001b[38;5;241m=\u001b[39m ImageFont\u001b[38;5;241m.\u001b[39mTransposedFont(\n\u001b[1;32m    509\u001b[0m     font, orientation\u001b[38;5;241m=\u001b[39morientation)\n\u001b[1;32m    510\u001b[0m \u001b[38;5;66;03m# get size of resulting text\u001b[39;00m\n\u001b[0;32m--> 511\u001b[0m box_size \u001b[38;5;241m=\u001b[39m \u001b[43mdraw\u001b[49m\u001b[38;5;241;43m.\u001b[39;49m\u001b[43mtextbbox\u001b[49m\u001b[43m(\u001b[49m\u001b[43m(\u001b[49m\u001b[38;5;241;43m0\u001b[39;49m\u001b[43m,\u001b[49m\u001b[43m \u001b[49m\u001b[38;5;241;43m0\u001b[39;49m\u001b[43m)\u001b[49m\u001b[43m,\u001b[49m\u001b[43m \u001b[49m\u001b[43mword\u001b[49m\u001b[43m,\u001b[49m\u001b[43m \u001b[49m\u001b[43mfont\u001b[49m\u001b[38;5;241;43m=\u001b[39;49m\u001b[43mtransposed_font\u001b[49m\u001b[43m,\u001b[49m\u001b[43m \u001b[49m\u001b[43manchor\u001b[49m\u001b[38;5;241;43m=\u001b[39;49m\u001b[38;5;124;43m\"\u001b[39;49m\u001b[38;5;124;43mlt\u001b[39;49m\u001b[38;5;124;43m\"\u001b[39;49m\u001b[43m)\u001b[49m\n\u001b[1;32m    512\u001b[0m \u001b[38;5;66;03m# find possible places using integral image:\u001b[39;00m\n\u001b[1;32m    513\u001b[0m result \u001b[38;5;241m=\u001b[39m occupancy\u001b[38;5;241m.\u001b[39msample_position(box_size[\u001b[38;5;241m3\u001b[39m] \u001b[38;5;241m+\u001b[39m \u001b[38;5;28mself\u001b[39m\u001b[38;5;241m.\u001b[39mmargin,\n\u001b[1;32m    514\u001b[0m                                    box_size[\u001b[38;5;241m2\u001b[39m] \u001b[38;5;241m+\u001b[39m \u001b[38;5;28mself\u001b[39m\u001b[38;5;241m.\u001b[39mmargin,\n\u001b[1;32m    515\u001b[0m                                    random_state)\n",
      "File \u001b[0;32m~/opt/anaconda3/lib/python3.9/site-packages/PIL/ImageDraw.py:671\u001b[0m, in \u001b[0;36mImageDraw.textbbox\u001b[0;34m(self, xy, text, font, anchor, spacing, align, direction, features, language, stroke_width, embedded_color)\u001b[0m\n\u001b[1;32m    669\u001b[0m     font \u001b[38;5;241m=\u001b[39m \u001b[38;5;28mself\u001b[39m\u001b[38;5;241m.\u001b[39mgetfont()\n\u001b[1;32m    670\u001b[0m \u001b[38;5;28;01mif\u001b[39;00m \u001b[38;5;129;01mnot\u001b[39;00m \u001b[38;5;28misinstance\u001b[39m(font, ImageFont\u001b[38;5;241m.\u001b[39mFreeTypeFont):\n\u001b[0;32m--> 671\u001b[0m     \u001b[38;5;28;01mraise\u001b[39;00m \u001b[38;5;167;01mValueError\u001b[39;00m(\u001b[38;5;124m\"\u001b[39m\u001b[38;5;124mOnly supported for TrueType fonts\u001b[39m\u001b[38;5;124m\"\u001b[39m)\n\u001b[1;32m    672\u001b[0m mode \u001b[38;5;241m=\u001b[39m \u001b[38;5;124m\"\u001b[39m\u001b[38;5;124mRGBA\u001b[39m\u001b[38;5;124m\"\u001b[39m \u001b[38;5;28;01mif\u001b[39;00m embedded_color \u001b[38;5;28;01melse\u001b[39;00m \u001b[38;5;28mself\u001b[39m\u001b[38;5;241m.\u001b[39mfontmode\n\u001b[1;32m    673\u001b[0m bbox \u001b[38;5;241m=\u001b[39m font\u001b[38;5;241m.\u001b[39mgetbbox(\n\u001b[1;32m    674\u001b[0m     text, mode, direction, features, language, stroke_width, anchor\n\u001b[1;32m    675\u001b[0m )\n",
      "\u001b[0;31mValueError\u001b[0m: Only supported for TrueType fonts"
     ]
    }
   ],
   "source": [
    "from wordcloud import WordCloud\n",
    "import matplotlib.pyplot as plt\n",
    "wordcloud = WordCloud().generate(meta_data.iloc[17863]['abstract'])\n",
    "plt.imshow(wordcloud, interpolation=\"bilinear\")"
   ]
  },
  {
   "cell_type": "code",
   "execution_count": 19,
   "id": "dc03d2c6",
   "metadata": {},
   "outputs": [],
   "source": [
    "import gensim\n",
    "from gensim.models import Doc2Vec\n",
    "\n",
    "def doc2vec():\n",
    "    document_tagged = []\n",
    "    tagged_count = 0\n",
    "    for _ in meta_data['abstract'].values:\n",
    "        document_tagged.append(gensim.models.doc2vec.TaggedDocument(_,[tagged_count]))\n",
    "        tagged_count +=1 \n",
    "    d2v = Doc2Vec(document_tagged)\n",
    "    d2v.train(document_tagged,epochs=d2v.epochs,total_examples=d2v.corpus_count)\n",
    "    return d2v.docvecs.vectors_docs"
   ]
  },
  {
   "cell_type": "code",
   "execution_count": null,
   "id": "478acf7a",
   "metadata": {},
   "outputs": [],
   "source": [
    "# Let's explore the data representation of doc2vec for abstract column.\n",
    "# Visualization the doc2vec representation\n",
    "%time doc2vec = doc2vec()"
   ]
  },
  {
   "cell_type": "code",
   "execution_count": null,
   "id": "98ad24af",
   "metadata": {},
   "outputs": [],
   "source": [
    "import seaborn as sns\n",
    "plt.figure(figsize=(16,16))\n",
    "sns.heatmap(doc2vec,cmap=\"coolwarm\")"
   ]
  },
  {
   "cell_type": "code",
   "execution_count": null,
   "id": "1fba037b",
   "metadata": {},
   "outputs": [],
   "source": []
  }
 ],
 "metadata": {
  "kernelspec": {
   "display_name": "Python 3 (ipykernel)",
   "language": "python",
   "name": "python3"
  },
  "language_info": {
   "codemirror_mode": {
    "name": "ipython",
    "version": 3
   },
   "file_extension": ".py",
   "mimetype": "text/x-python",
   "name": "python",
   "nbconvert_exporter": "python",
   "pygments_lexer": "ipython3",
   "version": "3.9.12"
  }
 },
 "nbformat": 4,
 "nbformat_minor": 5
}
